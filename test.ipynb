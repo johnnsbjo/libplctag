{
 "cells": [
  {
   "cell_type": "code",
   "execution_count": 4,
   "metadata": {},
   "outputs": [
    {
     "ename": "ImportError",
     "evalue": "dynamic module does not define module export function (PyInit_libplctag)",
     "output_type": "error",
     "traceback": [
      "\u001b[0;31m---------------------------------------------------------------------------\u001b[0m",
      "\u001b[0;31mImportError\u001b[0m                               Traceback (most recent call last)",
      "Cell \u001b[0;32mIn [4], line 1\u001b[0m\n\u001b[0;32m----> 1\u001b[0m \u001b[39mfrom\u001b[39;00m \u001b[39m_build\u001b[39;00m\u001b[39m.\u001b[39;00m\u001b[39mlib\u001b[39;00m \u001b[39mimport\u001b[39;00m libplctag\n",
      "\u001b[0;31mImportError\u001b[0m: dynamic module does not define module export function (PyInit_libplctag)"
     ]
    }
   ],
   "source": [
    "from _build.lib import libplctag"
   ]
  },
  {
   "cell_type": "code",
   "execution_count": 1,
   "metadata": {},
   "outputs": [
    {
     "name": "stdout",
     "output_type": "stream",
     "text": [
      "['astroid==2.12.13', 'asttokens==2.1.0', 'backcall==0.2.0', 'cmake-example==0.0.1', 'cmakeexample==0.0.1', 'debugpy==1.6.3', 'decorator==5.1.1', 'dill==0.3.6', 'entrypoints==0.4', 'executing==1.2.0', 'ipykernel==6.17.1', 'ipython==8.6.0', 'isort==5.10.1', 'jedi==0.18.1', 'jupyter-client==7.4.7', 'jupyter-core==5.0.0', 'lazy-object-proxy==1.8.0', 'matplotlib-inline==0.1.6', 'mccabe==0.7.0', 'nest-asyncio==1.5.6', 'packaging==21.3', 'parso==0.8.3', 'pexpect==4.8.0', 'pickleshare==0.7.5', 'pip==22.3.1', 'platformdirs==2.5.4', 'prompt-toolkit==3.0.32', 'psutil==5.9.4', 'ptyprocess==0.7.0', 'pure-eval==0.2.2', 'pybind11==2.10.1', 'pygments==2.13.0', 'pylint==2.15.6', 'pyparsing==3.0.9', 'python-dateutil==2.8.2', 'pyzmq==24.0.1', 'setuptools==63.2.0', 'six==1.16.0', 'stack-data==0.6.1', 'tomli==2.0.1', 'tomlkit==0.11.6', 'tornado==6.2', 'traitlets==5.5.0', 'wcwidth==0.2.5', 'wrapt==1.14.1']\n"
     ]
    }
   ],
   "source": [
    "import pkg_resources\n",
    "installed_packages = pkg_resources.working_set\n",
    "installed_packages_list = sorted([\"%s==%s\" % (i.key, i.version)\n",
    "   for i in installed_packages])\n",
    "print(installed_packages_list)"
   ]
  },
  {
   "cell_type": "code",
   "execution_count": 5,
   "metadata": {},
   "outputs": [],
   "source": [
    "tag_string = \"protocol=ab-eip&gateway=10.206.1.40&path=1,0&plc=ControlLogix&name=CB_Txt[0,0]\""
   ]
  },
  {
   "cell_type": "code",
   "execution_count": 7,
   "metadata": {},
   "outputs": [
    {
     "data": {
      "text/plain": [
       "11"
      ]
     },
     "execution_count": 7,
     "metadata": {},
     "output_type": "execute_result"
    }
   ],
   "source": [
    "pybind11_example.create_tag(tag_string, 0)"
   ]
  },
  {
   "cell_type": "code",
   "execution_count": 17,
   "metadata": {},
   "outputs": [
    {
     "data": {
      "text/plain": [
       "'PLCTAG_ERR_BUSY'"
      ]
     },
     "execution_count": 17,
     "metadata": {},
     "output_type": "execute_result"
    }
   ],
   "source": [
    "pybind11_example.read_tag(11, 1000)"
   ]
  },
  {
   "cell_type": "code",
   "execution_count": 16,
   "metadata": {},
   "outputs": [
    {
     "data": {
      "text/plain": [
       "'PLCTAG_ERR_BUSY'"
      ]
     },
     "execution_count": 16,
     "metadata": {},
     "output_type": "execute_result"
    }
   ],
   "source": [
    "pybind11_example.write_tag(11, 23)"
   ]
  },
  {
   "cell_type": "code",
   "execution_count": null,
   "metadata": {},
   "outputs": [],
   "source": []
  }
 ],
 "metadata": {
  "kernelspec": {
   "display_name": "venv",
   "language": "python",
   "name": "python3"
  },
  "language_info": {
   "codemirror_mode": {
    "name": "ipython",
    "version": 3
   },
   "file_extension": ".py",
   "mimetype": "text/x-python",
   "name": "python",
   "nbconvert_exporter": "python",
   "pygments_lexer": "ipython3",
   "version": "3.10.8"
  },
  "orig_nbformat": 4,
  "vscode": {
   "interpreter": {
    "hash": "3c1b9cc4abeee7da99c0059dff45aa32eab363e4de748c43c8c92056ba536df2"
   }
  }
 },
 "nbformat": 4,
 "nbformat_minor": 2
}
